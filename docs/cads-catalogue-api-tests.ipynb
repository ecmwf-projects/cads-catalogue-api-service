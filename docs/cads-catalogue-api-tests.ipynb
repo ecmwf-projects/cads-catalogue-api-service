{
 "cells": [
  {
   "cell_type": "markdown",
   "metadata": {},
   "source": [
    "# CADS Catalogue API service\n",
    "\n",
    "Scope of this document is to provide a preview of features implemented by the CADS Catalogue public API.\n",
    "\n",
    "The CADS Catalogue is implemented by providing a [STAC Collection](https://github.com/radiantearth/stac-spec/blob/master/collection-spec/collection-spec.md) compliant service by representing every dataset as a collection. This is build on top of [stac-fastapi](https://github.com/stac-utils/stac-fastapi/) (reference implementation for the standard).\n",
    "\n",
    "The root of the REST API contains information about the standard conformance itself:"
   ]
  },
  {
   "cell_type": "code",
   "execution_count": null,
   "metadata": {},
   "outputs": [],
   "source": [
    "import requests\n",
    "from tabulate import tabulate\n",
    "from IPython.display import display, Markdown\n",
    "\n",
    "API_BASE = 'http://localhost:8080/api/catalogue/v1/'\n",
    "\n",
    "r = requests.get(API_BASE)\n",
    "stac = r.json()\n",
    "\n",
    "print(stac['stac_version'])\n",
    "print(stac['conformsTo'])"
   ]
  },
  {
   "cell_type": "markdown",
   "metadata": {},
   "source": [
    "To reach something more specific to the CADS catalogue, we have to introspect the `/collections` endpoint, which is a set of [standalone collections](https://github.com/radiantearth/stac-spec/blob/master/collection-spec/collection-spec.md#standalone-collections)."
   ]
  },
  {
   "cell_type": "code",
   "execution_count": null,
   "metadata": {},
   "outputs": [],
   "source": [
    "\n",
    "r = requests.get(f\"{API_BASE}/collections\")\n",
    "print(r.status_code)\n",
    "collections = r.json()['collections']\n",
    "collections"
   ]
  },
  {
   "cell_type": "markdown",
   "metadata": {},
   "source": [
    "Out collections are a set of JSON structures, where every item is a dataset.\n",
    "We can better display them in a table:"
   ]
  },
  {
   "cell_type": "code",
   "execution_count": null,
   "metadata": {},
   "outputs": [],
   "source": [
    "tabulate(collections, headers='keys', tablefmt=\"html\")"
   ]
  },
  {
   "cell_type": "markdown",
   "metadata": {},
   "source": [
    "The catalogue overview is not providing all of the data we make it available through the REST API, while requesting for a specific dataset we can see more.\n",
    "\n",
    "Let's access the _\"[ERA5 hourly data on single levels from 1959 to present](https://cds.climate.copernicus.eu/cdsapp#!/dataset/reanalysis-era5-single-levels)\"_."
   ]
  },
  {
   "cell_type": "code",
   "execution_count": null,
   "metadata": {},
   "outputs": [],
   "source": [
    "r = requests.get(f\"{API_BASE}/collections/reanalysis-era5-single-levels\")\n",
    "era5 = r.json()\n",
    "era5"
   ]
  },
  {
   "cell_type": "markdown",
   "metadata": {},
   "source": [
    "From a dataset record we can extract a lot of informations like:\n",
    "\n",
    "- the title…"
   ]
  },
  {
   "cell_type": "code",
   "execution_count": null,
   "metadata": {},
   "outputs": [],
   "source": [
    "era5['title']"
   ]
  },
  {
   "cell_type": "markdown",
   "metadata": {},
   "source": [
    "- description in a markdown format…"
   ]
  },
  {
   "cell_type": "code",
   "execution_count": null,
   "metadata": {},
   "outputs": [],
   "source": [
    "display(Markdown(era5['description']))"
   ]
  },
  {
   "cell_type": "markdown",
   "metadata": {},
   "source": [
    "- the preview image…"
   ]
  },
  {
   "cell_type": "code",
   "execution_count": null,
   "metadata": {},
   "outputs": [],
   "source": [
    "display(Markdown(f'![ERA 5 Preview](http://localhost:8080{era5[\"assets\"][\"thumbnail\"][\"href\"]})'))"
   ]
  },
  {
   "cell_type": "markdown",
   "metadata": {},
   "source": [
    "Standard fields from the STAC standard can't cover all of the information we have inside datasets.\n",
    "\n",
    "Some information are vehicolated by the use of `links` structure:"
   ]
  },
  {
   "cell_type": "code",
   "execution_count": null,
   "metadata": {},
   "outputs": [],
   "source": [
    "era5['links']"
   ]
  },
  {
   "cell_type": "markdown",
   "metadata": {},
   "source": [
    "For example, to see license(s) of the ERA5 dataset:"
   ]
  },
  {
   "cell_type": "code",
   "execution_count": null,
   "metadata": {},
   "outputs": [],
   "source": [
    "[link['title'] for link in era5['links'] if link['rel'] == 'license']"
   ]
  },
  {
   "cell_type": "markdown",
   "metadata": {},
   "source": [
    "`links` is not suitable for every type of additional data we want to provide. Adding new fields to a STAC collection is something allowed by the standard by defining a new **STAC extension**.\n",
    "\n",
    "CADS datasets provides new data like the *publication date*:"
   ]
  },
  {
   "cell_type": "code",
   "execution_count": null,
   "metadata": {},
   "outputs": [],
   "source": [
    "era5['tmp:publication_date']"
   ]
  }
 ],
 "metadata": {
  "kernelspec": {
   "display_name": "Python 3.10.5 ('copds')",
   "language": "python",
   "name": "python3"
  },
  "language_info": {
   "codemirror_mode": {
    "name": "ipython",
    "version": 3
   },
   "file_extension": ".py",
   "mimetype": "text/x-python",
   "name": "python",
   "nbconvert_exporter": "python",
   "pygments_lexer": "ipython3",
   "version": "3.10.5"
  },
  "orig_nbformat": 4,
  "vscode": {
   "interpreter": {
    "hash": "0fb469cc4315bf580d08c76d92cdebd12f4706a65662f2764c48eea255b8fa9b"
   }
  }
 },
 "nbformat": 4,
 "nbformat_minor": 2
}
